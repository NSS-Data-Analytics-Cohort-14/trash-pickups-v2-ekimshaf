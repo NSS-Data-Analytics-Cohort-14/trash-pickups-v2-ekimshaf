{
 "cells": [
  {
   "cell_type": "code",
   "execution_count": 1,
   "id": "4f75ba30-ff4b-470e-b8cb-2fd4807beced",
   "metadata": {},
   "outputs": [],
   "source": [
    "import pandas as pd\n",
    "import geopandas as gpd\n",
    "import matplotlib.pyplot as plt\n",
    "import folium\n",
    "from folium.plugins import MarkerCluster\n",
    "from folium.plugins import FastMarkerCluster"
   ]
  },
  {
   "cell_type": "code",
   "execution_count": 2,
   "id": "f442cf17-8617-493c-8f84-c62e06ed6767",
   "metadata": {},
   "outputs": [
    {
     "name": "stdout",
     "output_type": "stream",
     "text": [
      "(20226, 13)\n"
     ]
    },
    {
     "data": {
      "text/html": [
       "<div>\n",
       "<style scoped>\n",
       "    .dataframe tbody tr th:only-of-type {\n",
       "        vertical-align: middle;\n",
       "    }\n",
       "\n",
       "    .dataframe tbody tr th {\n",
       "        vertical-align: top;\n",
       "    }\n",
       "\n",
       "    .dataframe thead th {\n",
       "        text-align: right;\n",
       "    }\n",
       "</style>\n",
       "<table border=\"1\" class=\"dataframe\">\n",
       "  <thead>\n",
       "    <tr style=\"text-align: right;\">\n",
       "      <th></th>\n",
       "      <th>Request Number</th>\n",
       "      <th>Date Opened</th>\n",
       "      <th>Request</th>\n",
       "      <th>Description</th>\n",
       "      <th>Incident Address</th>\n",
       "      <th>Zip Code</th>\n",
       "      <th>Trash Hauler</th>\n",
       "      <th>Trash Route</th>\n",
       "      <th>Council District</th>\n",
       "      <th>State Plan X</th>\n",
       "      <th>State Plan Y</th>\n",
       "      <th>LONGITUDE</th>\n",
       "      <th>LATITUDE</th>\n",
       "    </tr>\n",
       "  </thead>\n",
       "  <tbody>\n",
       "    <tr>\n",
       "      <th>0</th>\n",
       "      <td>25270</td>\n",
       "      <td>11/1/2017</td>\n",
       "      <td>Trash - Backdoor</td>\n",
       "      <td>house with the wheel chair ramp, they share dr...</td>\n",
       "      <td>3817 Crouch Dr</td>\n",
       "      <td>37207.0</td>\n",
       "      <td>RED RIVER</td>\n",
       "      <td>3205</td>\n",
       "      <td>2.0</td>\n",
       "      <td>1727970.412</td>\n",
       "      <td>686779.4781</td>\n",
       "      <td>-86.815392</td>\n",
       "      <td>36.217292</td>\n",
       "    </tr>\n",
       "    <tr>\n",
       "      <th>1</th>\n",
       "      <td>25274</td>\n",
       "      <td>11/1/2017</td>\n",
       "      <td>Trash - Curbside/Alley Missed Pickup</td>\n",
       "      <td>Curb/Trash miss Tuesday.</td>\n",
       "      <td>4028 Clarksville Pike</td>\n",
       "      <td>37218.0</td>\n",
       "      <td>RED RIVER</td>\n",
       "      <td>4202</td>\n",
       "      <td>1.0</td>\n",
       "      <td>1721259.366</td>\n",
       "      <td>685444.7996</td>\n",
       "      <td>-86.838103</td>\n",
       "      <td>36.213470</td>\n",
       "    </tr>\n",
       "    <tr>\n",
       "      <th>2</th>\n",
       "      <td>25276</td>\n",
       "      <td>11/1/2017</td>\n",
       "      <td>Trash - Curbside/Alley Missed Pickup</td>\n",
       "      <td>Curb/trash miss Tuesday.</td>\n",
       "      <td>6528 Thunderbird Dr</td>\n",
       "      <td>37209.0</td>\n",
       "      <td>RED RIVER</td>\n",
       "      <td>4205</td>\n",
       "      <td>20.0</td>\n",
       "      <td>1707026.753</td>\n",
       "      <td>659887.4716</td>\n",
       "      <td>-86.885562</td>\n",
       "      <td>36.142923</td>\n",
       "    </tr>\n",
       "    <tr>\n",
       "      <th>3</th>\n",
       "      <td>25307</td>\n",
       "      <td>11/1/2017</td>\n",
       "      <td>Trash - Curbside/Alley Missed Pickup</td>\n",
       "      <td>missed</td>\n",
       "      <td>2603 old matthews rd</td>\n",
       "      <td>37207.0</td>\n",
       "      <td>WASTE IND</td>\n",
       "      <td>2206</td>\n",
       "      <td>2.0</td>\n",
       "      <td>1735691.771</td>\n",
       "      <td>685027.2459</td>\n",
       "      <td>-86.789170</td>\n",
       "      <td>36.212652</td>\n",
       "    </tr>\n",
       "    <tr>\n",
       "      <th>4</th>\n",
       "      <td>25312</td>\n",
       "      <td>11/1/2017</td>\n",
       "      <td>Trash - Curbside/Alley Missed Pickup</td>\n",
       "      <td>Missed the even side of the road.</td>\n",
       "      <td>604 croley dr</td>\n",
       "      <td>37209.0</td>\n",
       "      <td>RED RIVER</td>\n",
       "      <td>4203</td>\n",
       "      <td>20.0</td>\n",
       "      <td>1710185.772</td>\n",
       "      <td>664205.1011</td>\n",
       "      <td>-86.874995</td>\n",
       "      <td>36.154861</td>\n",
       "    </tr>\n",
       "  </tbody>\n",
       "</table>\n",
       "</div>"
      ],
      "text/plain": [
       "   Request Number Date Opened                               Request  \\\n",
       "0           25270   11/1/2017                      Trash - Backdoor   \n",
       "1           25274   11/1/2017  Trash - Curbside/Alley Missed Pickup   \n",
       "2           25276   11/1/2017  Trash - Curbside/Alley Missed Pickup   \n",
       "3           25307   11/1/2017  Trash - Curbside/Alley Missed Pickup   \n",
       "4           25312   11/1/2017  Trash - Curbside/Alley Missed Pickup   \n",
       "\n",
       "                                         Description       Incident Address  \\\n",
       "0  house with the wheel chair ramp, they share dr...         3817 Crouch Dr   \n",
       "1                           Curb/Trash miss Tuesday.  4028 Clarksville Pike   \n",
       "2                           Curb/trash miss Tuesday.    6528 Thunderbird Dr   \n",
       "3                                             missed   2603 old matthews rd   \n",
       "4                  Missed the even side of the road.          604 croley dr   \n",
       "\n",
       "   Zip Code Trash Hauler Trash Route  Council District  State Plan X  \\\n",
       "0   37207.0    RED RIVER        3205               2.0   1727970.412   \n",
       "1   37218.0    RED RIVER        4202               1.0   1721259.366   \n",
       "2   37209.0    RED RIVER        4205              20.0   1707026.753   \n",
       "3   37207.0    WASTE IND        2206               2.0   1735691.771   \n",
       "4   37209.0    RED RIVER        4203              20.0   1710185.772   \n",
       "\n",
       "   State Plan Y  LONGITUDE   LATITUDE  \n",
       "0   686779.4781 -86.815392  36.217292  \n",
       "1   685444.7996 -86.838103  36.213470  \n",
       "2   659887.4716 -86.885562  36.142923  \n",
       "3   685027.2459 -86.789170  36.212652  \n",
       "4   664205.1011 -86.874995  36.154861  "
      ]
     },
     "execution_count": 2,
     "metadata": {},
     "output_type": "execute_result"
    }
   ],
   "source": [
    "trashpick = pd.read_csv(r\"C:\\Users\\ekims\\Documents\\NSS\\DA14\\Projects\\trash-pickups-v2-ekimshaf\\data\\trash_hauler_report_with_lat_lng.csv\")\n",
    "print(trashpick.shape)\n",
    "trashpick.head(5)"
   ]
  },
  {
   "cell_type": "code",
   "execution_count": 3,
   "id": "c9e67036-ea05-48da-92ea-117cbbedb965",
   "metadata": {},
   "outputs": [
    {
     "name": "stdout",
     "output_type": "stream",
     "text": [
      "(14395, 13)\n"
     ]
    },
    {
     "data": {
      "text/html": [
       "<div>\n",
       "<style scoped>\n",
       "    .dataframe tbody tr th:only-of-type {\n",
       "        vertical-align: middle;\n",
       "    }\n",
       "\n",
       "    .dataframe tbody tr th {\n",
       "        vertical-align: top;\n",
       "    }\n",
       "\n",
       "    .dataframe thead th {\n",
       "        text-align: right;\n",
       "    }\n",
       "</style>\n",
       "<table border=\"1\" class=\"dataframe\">\n",
       "  <thead>\n",
       "    <tr style=\"text-align: right;\">\n",
       "      <th></th>\n",
       "      <th>Request Number</th>\n",
       "      <th>Date Opened</th>\n",
       "      <th>Request</th>\n",
       "      <th>Description</th>\n",
       "      <th>Incident Address</th>\n",
       "      <th>Zip Code</th>\n",
       "      <th>Trash Hauler</th>\n",
       "      <th>Trash Route</th>\n",
       "      <th>Council District</th>\n",
       "      <th>State Plan X</th>\n",
       "      <th>State Plan Y</th>\n",
       "      <th>LONGITUDE</th>\n",
       "      <th>LATITUDE</th>\n",
       "    </tr>\n",
       "  </thead>\n",
       "  <tbody>\n",
       "    <tr>\n",
       "      <th>0</th>\n",
       "      <td>25270</td>\n",
       "      <td>11/1/2017</td>\n",
       "      <td>Trash - Backdoor</td>\n",
       "      <td>house with the wheel chair ramp, they share dr...</td>\n",
       "      <td>3817 Crouch Dr</td>\n",
       "      <td>37207.0</td>\n",
       "      <td>RED RIVER</td>\n",
       "      <td>3205</td>\n",
       "      <td>2.0</td>\n",
       "      <td>1727970.412</td>\n",
       "      <td>686779.4781</td>\n",
       "      <td>-86.815392</td>\n",
       "      <td>36.217292</td>\n",
       "    </tr>\n",
       "    <tr>\n",
       "      <th>1</th>\n",
       "      <td>25274</td>\n",
       "      <td>11/1/2017</td>\n",
       "      <td>Trash - Curbside/Alley Missed Pickup</td>\n",
       "      <td>Curb/Trash miss Tuesday.</td>\n",
       "      <td>4028 Clarksville Pike</td>\n",
       "      <td>37218.0</td>\n",
       "      <td>RED RIVER</td>\n",
       "      <td>4202</td>\n",
       "      <td>1.0</td>\n",
       "      <td>1721259.366</td>\n",
       "      <td>685444.7996</td>\n",
       "      <td>-86.838103</td>\n",
       "      <td>36.213470</td>\n",
       "    </tr>\n",
       "    <tr>\n",
       "      <th>2</th>\n",
       "      <td>25276</td>\n",
       "      <td>11/1/2017</td>\n",
       "      <td>Trash - Curbside/Alley Missed Pickup</td>\n",
       "      <td>Curb/trash miss Tuesday.</td>\n",
       "      <td>6528 Thunderbird Dr</td>\n",
       "      <td>37209.0</td>\n",
       "      <td>RED RIVER</td>\n",
       "      <td>4205</td>\n",
       "      <td>20.0</td>\n",
       "      <td>1707026.753</td>\n",
       "      <td>659887.4716</td>\n",
       "      <td>-86.885562</td>\n",
       "      <td>36.142923</td>\n",
       "    </tr>\n",
       "    <tr>\n",
       "      <th>4</th>\n",
       "      <td>25312</td>\n",
       "      <td>11/1/2017</td>\n",
       "      <td>Trash - Curbside/Alley Missed Pickup</td>\n",
       "      <td>Missed the even side of the road.</td>\n",
       "      <td>604 croley dr</td>\n",
       "      <td>37209.0</td>\n",
       "      <td>RED RIVER</td>\n",
       "      <td>4203</td>\n",
       "      <td>20.0</td>\n",
       "      <td>1710185.772</td>\n",
       "      <td>664205.1011</td>\n",
       "      <td>-86.874995</td>\n",
       "      <td>36.154861</td>\n",
       "    </tr>\n",
       "    <tr>\n",
       "      <th>5</th>\n",
       "      <td>25317</td>\n",
       "      <td>11/1/2017</td>\n",
       "      <td>Trash Collection Complaint</td>\n",
       "      <td>left trash cart in middle of driveway instead ...</td>\n",
       "      <td>3602 floral dr</td>\n",
       "      <td>37211.0</td>\n",
       "      <td>RED RIVER</td>\n",
       "      <td>4304</td>\n",
       "      <td>16.0</td>\n",
       "      <td>1751660.164</td>\n",
       "      <td>643215.2011</td>\n",
       "      <td>-86.733980</td>\n",
       "      <td>36.098140</td>\n",
       "    </tr>\n",
       "  </tbody>\n",
       "</table>\n",
       "</div>"
      ],
      "text/plain": [
       "   Request Number Date Opened                               Request  \\\n",
       "0           25270   11/1/2017                      Trash - Backdoor   \n",
       "1           25274   11/1/2017  Trash - Curbside/Alley Missed Pickup   \n",
       "2           25276   11/1/2017  Trash - Curbside/Alley Missed Pickup   \n",
       "4           25312   11/1/2017  Trash - Curbside/Alley Missed Pickup   \n",
       "5           25317   11/1/2017            Trash Collection Complaint   \n",
       "\n",
       "                                         Description       Incident Address  \\\n",
       "0  house with the wheel chair ramp, they share dr...         3817 Crouch Dr   \n",
       "1                           Curb/Trash miss Tuesday.  4028 Clarksville Pike   \n",
       "2                           Curb/trash miss Tuesday.    6528 Thunderbird Dr   \n",
       "4                  Missed the even side of the road.          604 croley dr   \n",
       "5  left trash cart in middle of driveway instead ...         3602 floral dr   \n",
       "\n",
       "   Zip Code Trash Hauler Trash Route  Council District  State Plan X  \\\n",
       "0   37207.0    RED RIVER        3205               2.0   1727970.412   \n",
       "1   37218.0    RED RIVER        4202               1.0   1721259.366   \n",
       "2   37209.0    RED RIVER        4205              20.0   1707026.753   \n",
       "4   37209.0    RED RIVER        4203              20.0   1710185.772   \n",
       "5   37211.0    RED RIVER        4304              16.0   1751660.164   \n",
       "\n",
       "   State Plan Y  LONGITUDE   LATITUDE  \n",
       "0   686779.4781 -86.815392  36.217292  \n",
       "1   685444.7996 -86.838103  36.213470  \n",
       "2   659887.4716 -86.885562  36.142923  \n",
       "4   664205.1011 -86.874995  36.154861  \n",
       "5   643215.2011 -86.733980  36.098140  "
      ]
     },
     "execution_count": 3,
     "metadata": {},
     "output_type": "execute_result"
    }
   ],
   "source": [
    "## filter new datafram to include only instances for provider \"Red River\"\n",
    "red_river = trashpick[trashpick['Trash Hauler'].isin(['RED RIVER'])]\n",
    "print(red_river.shape)\n",
    "red_river.head(5)"
   ]
  },
  {
   "cell_type": "code",
   "execution_count": 4,
   "id": "65a3e081-008e-4d4e-8a63-88e21b508678",
   "metadata": {},
   "outputs": [
    {
     "name": "stdout",
     "output_type": "stream",
     "text": [
      "(10715, 13)\n"
     ]
    },
    {
     "data": {
      "text/html": [
       "<div>\n",
       "<style scoped>\n",
       "    .dataframe tbody tr th:only-of-type {\n",
       "        vertical-align: middle;\n",
       "    }\n",
       "\n",
       "    .dataframe tbody tr th {\n",
       "        vertical-align: top;\n",
       "    }\n",
       "\n",
       "    .dataframe thead th {\n",
       "        text-align: right;\n",
       "    }\n",
       "</style>\n",
       "<table border=\"1\" class=\"dataframe\">\n",
       "  <thead>\n",
       "    <tr style=\"text-align: right;\">\n",
       "      <th></th>\n",
       "      <th>Request Number</th>\n",
       "      <th>Date Opened</th>\n",
       "      <th>Request</th>\n",
       "      <th>Description</th>\n",
       "      <th>Incident Address</th>\n",
       "      <th>Zip Code</th>\n",
       "      <th>Trash Hauler</th>\n",
       "      <th>Trash Route</th>\n",
       "      <th>Council District</th>\n",
       "      <th>State Plan X</th>\n",
       "      <th>State Plan Y</th>\n",
       "      <th>LONGITUDE</th>\n",
       "      <th>LATITUDE</th>\n",
       "    </tr>\n",
       "  </thead>\n",
       "  <tbody>\n",
       "    <tr>\n",
       "      <th>1</th>\n",
       "      <td>25274</td>\n",
       "      <td>11/1/2017</td>\n",
       "      <td>Trash - Curbside/Alley Missed Pickup</td>\n",
       "      <td>Curb/Trash miss Tuesday.</td>\n",
       "      <td>4028 Clarksville Pike</td>\n",
       "      <td>37218.0</td>\n",
       "      <td>RED RIVER</td>\n",
       "      <td>4202</td>\n",
       "      <td>1.0</td>\n",
       "      <td>1721259.366</td>\n",
       "      <td>685444.7996</td>\n",
       "      <td>-86.838103</td>\n",
       "      <td>36.213470</td>\n",
       "    </tr>\n",
       "    <tr>\n",
       "      <th>2</th>\n",
       "      <td>25276</td>\n",
       "      <td>11/1/2017</td>\n",
       "      <td>Trash - Curbside/Alley Missed Pickup</td>\n",
       "      <td>Curb/trash miss Tuesday.</td>\n",
       "      <td>6528 Thunderbird Dr</td>\n",
       "      <td>37209.0</td>\n",
       "      <td>RED RIVER</td>\n",
       "      <td>4205</td>\n",
       "      <td>20.0</td>\n",
       "      <td>1707026.753</td>\n",
       "      <td>659887.4716</td>\n",
       "      <td>-86.885562</td>\n",
       "      <td>36.142923</td>\n",
       "    </tr>\n",
       "    <tr>\n",
       "      <th>4</th>\n",
       "      <td>25312</td>\n",
       "      <td>11/1/2017</td>\n",
       "      <td>Trash - Curbside/Alley Missed Pickup</td>\n",
       "      <td>Missed the even side of the road.</td>\n",
       "      <td>604 croley dr</td>\n",
       "      <td>37209.0</td>\n",
       "      <td>RED RIVER</td>\n",
       "      <td>4203</td>\n",
       "      <td>20.0</td>\n",
       "      <td>1710185.772</td>\n",
       "      <td>664205.1011</td>\n",
       "      <td>-86.874995</td>\n",
       "      <td>36.154861</td>\n",
       "    </tr>\n",
       "    <tr>\n",
       "      <th>8</th>\n",
       "      <td>25330</td>\n",
       "      <td>11/1/2017</td>\n",
       "      <td>Trash - Curbside/Alley Missed Pickup</td>\n",
       "      <td>Missed.</td>\n",
       "      <td>4484 Lavergne Couchville Pike</td>\n",
       "      <td>37013.0</td>\n",
       "      <td>RED RIVER</td>\n",
       "      <td>4210</td>\n",
       "      <td>33.0</td>\n",
       "      <td>1794533.514</td>\n",
       "      <td>618749.3427</td>\n",
       "      <td>-86.588364</td>\n",
       "      <td>36.031728</td>\n",
       "    </tr>\n",
       "    <tr>\n",
       "      <th>10</th>\n",
       "      <td>25341</td>\n",
       "      <td>11/1/2017</td>\n",
       "      <td>Trash - Curbside/Alley Missed Pickup</td>\n",
       "      <td>Missed trash pickup - resident has at curb for...</td>\n",
       "      <td>3113 HYDES FERRY RD</td>\n",
       "      <td>37218.0</td>\n",
       "      <td>RED RIVER</td>\n",
       "      <td>4204</td>\n",
       "      <td>2.0</td>\n",
       "      <td>1721577.768</td>\n",
       "      <td>676018.3999</td>\n",
       "      <td>-86.836750</td>\n",
       "      <td>36.187584</td>\n",
       "    </tr>\n",
       "  </tbody>\n",
       "</table>\n",
       "</div>"
      ],
      "text/plain": [
       "    Request Number Date Opened                               Request  \\\n",
       "1            25274   11/1/2017  Trash - Curbside/Alley Missed Pickup   \n",
       "2            25276   11/1/2017  Trash - Curbside/Alley Missed Pickup   \n",
       "4            25312   11/1/2017  Trash - Curbside/Alley Missed Pickup   \n",
       "8            25330   11/1/2017  Trash - Curbside/Alley Missed Pickup   \n",
       "10           25341   11/1/2017  Trash - Curbside/Alley Missed Pickup   \n",
       "\n",
       "                                          Description  \\\n",
       "1                            Curb/Trash miss Tuesday.   \n",
       "2                            Curb/trash miss Tuesday.   \n",
       "4                   Missed the even side of the road.   \n",
       "8                                             Missed.   \n",
       "10  Missed trash pickup - resident has at curb for...   \n",
       "\n",
       "                 Incident Address  Zip Code Trash Hauler Trash Route  \\\n",
       "1           4028 Clarksville Pike   37218.0    RED RIVER        4202   \n",
       "2             6528 Thunderbird Dr   37209.0    RED RIVER        4205   \n",
       "4                   604 croley dr   37209.0    RED RIVER        4203   \n",
       "8   4484 Lavergne Couchville Pike   37013.0    RED RIVER        4210   \n",
       "10            3113 HYDES FERRY RD   37218.0    RED RIVER        4204   \n",
       "\n",
       "    Council District  State Plan X  State Plan Y  LONGITUDE   LATITUDE  \n",
       "1                1.0   1721259.366   685444.7996 -86.838103  36.213470  \n",
       "2               20.0   1707026.753   659887.4716 -86.885562  36.142923  \n",
       "4               20.0   1710185.772   664205.1011 -86.874995  36.154861  \n",
       "8               33.0   1794533.514   618749.3427 -86.588364  36.031728  \n",
       "10               2.0   1721577.768   676018.3999 -86.836750  36.187584  "
      ]
     },
     "execution_count": 4,
     "metadata": {},
     "output_type": "execute_result"
    }
   ],
   "source": [
    "## filter new dataframe for only values where description includes the word \"miss\"\n",
    "## letter case was ignored, used Description column as Request column had more than one description type associated with missed p/u\n",
    "rr_missed = red_river[red_river['Request'].str.contains('Trash - Curbside/Alley Missed Pickup', case=False, na=False)]\n",
    "print(rr_missed.shape)\n",
    "rr_missed.head(5)\n"
   ]
  },
  {
   "cell_type": "code",
   "execution_count": 5,
   "id": "2d43c6a8-c2da-41b5-aabc-ec0ff12910ef",
   "metadata": {},
   "outputs": [
    {
     "name": "stdout",
     "output_type": "stream",
     "text": [
      "(8190,)\n",
      "(1551,)\n"
     ]
    },
    {
     "data": {
      "text/plain": [
       "Incident Address\n",
       "12546 Old Hickory Blvd, Nashville, TN 37013, United States    19\n",
       "5135 Hickory Hollow Pkwy                                      16\n",
       "802 Crescent Rd, Nashville, TN 37205, United States           16\n",
       "607 Estes Rd, Nashville, TN 37215, United States              15\n",
       "3710 N NATCHEZ CT                                             14\n",
       "6007 Obrien Ave, Nashville, TN 37209, United States           14\n",
       "320 Old Hickory Blvd, Nashville, TN 37221, United States      12\n",
       "111 Barton Ln, Nashville, TN 37214, United States             11\n",
       "1537 Harding Pl, Nashville, TN 37215, United States           11\n",
       "3929 Stewarts Ln                                              10\n",
       "208 Flint Ridge Ct, Nashville, TN 37189, United States         9\n",
       "2731 Murfreesboro Pike                                         9\n",
       "115 Barton Ln, Nashville, TN 37214, United States              9\n",
       "1916 S Hamilton Rd                                             9\n",
       "1584 Bell Rd                                                   9\n",
       "14885 old hickory blvd                                         8\n",
       "672 Annex Ave, Nashville, TN 37209, United States              8\n",
       "14550 Old Hickory Blvd, Nashville, TN 37013, United States     8\n",
       "4024 Stewarts Ln, Nashville, TN 37218, United States           8\n",
       "3116 anderson rd                                               8\n",
       "Name: count, dtype: int64"
      ]
     },
     "execution_count": 5,
     "metadata": {},
     "output_type": "execute_result"
    }
   ],
   "source": [
    "## counting instances where addresses appear more than once from missed p/u df\n",
    "\n",
    "address_counts = rr_missed['Incident Address'].value_counts()\n",
    "rpt_miss = address_counts[address_counts >= 2]\n",
    "\n",
    "print(address_counts.shape)\n",
    "print(rpt_miss.shape)\n",
    "rpt_miss.head(20)"
   ]
  },
  {
   "cell_type": "code",
   "execution_count": 6,
   "id": "0bb8fed5-fc30-4f40-972e-6235e3d1aebd",
   "metadata": {},
   "outputs": [
    {
     "data": {
      "text/plain": [
       "4075"
      ]
     },
     "execution_count": 6,
     "metadata": {},
     "output_type": "execute_result"
    }
   ],
   "source": [
    "## summing the total number of missed incidents with addresses where p/u miss is >= 2\n",
    "missed_sum = sum(rpt_miss)\n",
    "missed_sum\n"
   ]
  },
  {
   "cell_type": "code",
   "execution_count": 7,
   "id": "cdda2c50-3eb8-4a59-b967-2b11a1e41489",
   "metadata": {},
   "outputs": [
    {
     "data": {
      "text/plain": [
       "2524"
      ]
     },
     "execution_count": 7,
     "metadata": {},
     "output_type": "execute_result"
    }
   ],
   "source": [
    "## subtracting first instance from counts as it is not subject to fine\n",
    "## calculated by subtracting count of missed p/u from sum of instances\n",
    "penalty = missed_sum - rpt_miss.count()\n",
    "penalty"
   ]
  },
  {
   "cell_type": "code",
   "execution_count": 8,
   "id": "900f8ae9-1180-45b1-8895-441641f87172",
   "metadata": {},
   "outputs": [
    {
     "data": {
      "text/plain": [
       "504800"
      ]
     },
     "execution_count": 8,
     "metadata": {},
     "output_type": "execute_result"
    }
   ],
   "source": [
    "## calculating total fine, formatting to make it currency\n",
    "##tot_fine = \"${:,.2f}\".format(penalty * 200)  <<---- wasn't playing nice with the below calculation because this is making the output a string\n",
    "tot_fine = penalty * 200\n",
    "tot_fine\n"
   ]
  },
  {
   "cell_type": "markdown",
   "id": "9ffc8583-d699-4b81-9871-b039ad51522e",
   "metadata": {},
   "source": [
    "Instruction on checking work:\n",
    "\n",
    "1. Look at each calculation separately. How many incidents of missed pickups are there? Multiply that times the fee amount. That will tell you the max amount that the fine could be. 2. Look at the count of all house, then the count of all houses with more than one pickup. What percentage is that. If you take your total for above and reduce it by that percentage, do they line up?"
   ]
  },
  {
   "cell_type": "code",
   "execution_count": 9,
   "id": "e201ed28-83e0-453b-b63f-10328bee976d",
   "metadata": {},
   "outputs": [
    {
     "data": {
      "text/plain": [
       "720800"
      ]
     },
     "execution_count": 9,
     "metadata": {},
     "output_type": "execute_result"
    }
   ],
   "source": [
    "## total of all data for missed pick-up\n",
    "tot_missed = trashpick[trashpick['Request'].str.contains('Trash - Curbside/Alley Missed Pickup', case=False, na=False)]\n",
    "## total count of missed pick-up addresses\n",
    "tot_count = tot_missed['Incident Address'].value_counts()\n",
    "## total number of addresses missed more than once\n",
    "rpt_miss_all = tot_count[tot_count >= 2]\n",
    "## penalty for all missed in dataset\n",
    "all_miss_sum =  sum(rpt_miss_all)\n",
    "all_pen = all_miss_sum - rpt_miss_all.count()\n",
    "all_fine = all_pen * 200\n",
    "##all_fine = \"${:,.2f}\".format(all_pen * 200)  <<---- wasn't playing nice with the below calculation because this is making the output a string\n",
    "\n",
    "all_fine"
   ]
  },
  {
   "cell_type": "code",
   "execution_count": 10,
   "id": "e3258275-fc65-42ab-bac3-0afecc8084ad",
   "metadata": {},
   "outputs": [
    {
     "data": {
      "text/plain": [
       "0.7003329633740288"
      ]
     },
     "execution_count": 10,
     "metadata": {},
     "output_type": "execute_result"
    }
   ],
   "source": [
    "rr_fine_perc = tot_fine / all_fine\n",
    "rr_fine_perc"
   ]
  },
  {
   "cell_type": "code",
   "execution_count": 31,
   "id": "f354ace1-5811-4b62-a05e-e25bb2b994e8",
   "metadata": {},
   "outputs": [
    {
     "name": "stdout",
     "output_type": "stream",
     "text": [
      "Incident Address\n",
      "12546 Old Hickory Blvd, Nashville, TN 37013, United States    19\n",
      "5135 Hickory Hollow Pkwy                                      17\n",
      "802 Crescent Rd, Nashville, TN 37205, United States           17\n",
      "1816 Jo Johnston Ave, Nashville, TN 37203, United States      16\n",
      "607 Estes Rd, Nashville, TN 37215, United States              15\n",
      "                                                              ..\n",
      "3702 Hobbs Rd                                                  2\n",
      "1114 Saunders Ave, Madison, TN 37115, United States            2\n",
      "1824 Shackleford Rd B                                          2\n",
      "4014 Dorcas Dr, Nashville, TN 37215, United States             2\n",
      "109 Jocelyn Hills Rd                                           2\n",
      "Name: count, Length: 2226, dtype: int64\n",
      "5830\n"
     ]
    }
   ],
   "source": [
    "all_house = trashpick[trashpick['Request'].str.contains('Trash - Curbside/Alley Missed Pickup', case=False, na=False)]\n",
    "count_house_all = all_house['Incident Address'].value_counts()\n",
    "rpt_house_all = count_house_all[count_house_all >= 2]\n",
    "rpt_house_all\n",
    "tot_house_all = sum(rpt_house_all)\n",
    "print(rpt_house_all)\n",
    "print(tot_house_all)"
   ]
  },
  {
   "cell_type": "code",
   "execution_count": 19,
   "id": "d3657579-7584-415f-880c-bfa6215b7338",
   "metadata": {},
   "outputs": [
    {
     "data": {
      "text/plain": [
       "10668"
      ]
     },
     "execution_count": 19,
     "metadata": {},
     "output_type": "execute_result"
    }
   ],
   "source": [
    "rr_house = all_house[all_house['Trash Hauler'].str.contains('RED RIVER', case=False, na=False)]\n",
    "tot_house_rr = sum(rr_house.value_counts())\n",
    "tot_house_rr"
   ]
  },
  {
   "cell_type": "code",
   "execution_count": 33,
   "id": "e4073eb2-b737-4d43-b191-111e6a8e96a0",
   "metadata": {},
   "outputs": [
    {
     "data": {
      "text/plain": [
       "0.6989708404802745"
      ]
     },
     "execution_count": 33,
     "metadata": {},
     "output_type": "execute_result"
    }
   ],
   "source": [
    "house_perc = missed_sum / tot_house_all\n",
    "house_perc"
   ]
  },
  {
   "cell_type": "markdown",
   "id": "f026acc1-1741-43f6-bfbe-24fbb3f1e8b7",
   "metadata": {},
   "source": [
    "ANSWER:  Total fine for Red River is $504,800.00.\n",
    "\n",
    "I checked this answer by finding the total fine and calculating the percentage of the total fine that I've calculated is Red River's portion,\n",
    "which is approx. 70%.\n",
    "\n",
    "I then found the total number of houses in the dataset which include the \"Missed Pick-up\" tag with more than one entry in the data set.  I then divided my previous total of Red River missed house >=2 by the total missed >= 2 to again find Red River's portion.  This outcome was again approx. 70%.\n",
    "\n",
    "This leads me to believe that my orignal calculations were correct in regards to the fine owed by Red River for repeat missed pick-ups."
   ]
  },
  {
   "cell_type": "code",
   "execution_count": null,
   "id": "900539c8-e1cb-4747-a41e-fa190d2ddef6",
   "metadata": {},
   "outputs": [],
   "source": []
  }
 ],
 "metadata": {
  "kernelspec": {
   "display_name": "Python 3 (ipykernel)",
   "language": "python",
   "name": "python3"
  },
  "language_info": {
   "codemirror_mode": {
    "name": "ipython",
    "version": 3
   },
   "file_extension": ".py",
   "mimetype": "text/x-python",
   "name": "python",
   "nbconvert_exporter": "python",
   "pygments_lexer": "ipython3",
   "version": "3.10.17"
  }
 },
 "nbformat": 4,
 "nbformat_minor": 5
}

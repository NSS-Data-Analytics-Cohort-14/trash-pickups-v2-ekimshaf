{
 "cells": [
  {
   "cell_type": "code",
   "execution_count": 1,
   "id": "4f75ba30-ff4b-470e-b8cb-2fd4807beced",
   "metadata": {},
   "outputs": [],
   "source": [
    "import pandas as pd\n",
    "import geopandas as gpd\n",
    "import matplotlib.pyplot as plt\n",
    "import folium\n",
    "from folium.plugins import MarkerCluster\n",
    "from folium.plugins import FastMarkerCluster"
   ]
  },
  {
   "cell_type": "code",
   "execution_count": 2,
   "id": "f442cf17-8617-493c-8f84-c62e06ed6767",
   "metadata": {},
   "outputs": [
    {
     "name": "stdout",
     "output_type": "stream",
     "text": [
      "(20226, 13)\n"
     ]
    },
    {
     "data": {
      "text/html": [
       "<div>\n",
       "<style scoped>\n",
       "    .dataframe tbody tr th:only-of-type {\n",
       "        vertical-align: middle;\n",
       "    }\n",
       "\n",
       "    .dataframe tbody tr th {\n",
       "        vertical-align: top;\n",
       "    }\n",
       "\n",
       "    .dataframe thead th {\n",
       "        text-align: right;\n",
       "    }\n",
       "</style>\n",
       "<table border=\"1\" class=\"dataframe\">\n",
       "  <thead>\n",
       "    <tr style=\"text-align: right;\">\n",
       "      <th></th>\n",
       "      <th>Request Number</th>\n",
       "      <th>Date Opened</th>\n",
       "      <th>Request</th>\n",
       "      <th>Description</th>\n",
       "      <th>Incident Address</th>\n",
       "      <th>Zip Code</th>\n",
       "      <th>Trash Hauler</th>\n",
       "      <th>Trash Route</th>\n",
       "      <th>Council District</th>\n",
       "      <th>State Plan X</th>\n",
       "      <th>State Plan Y</th>\n",
       "      <th>LONGITUDE</th>\n",
       "      <th>LATITUDE</th>\n",
       "    </tr>\n",
       "  </thead>\n",
       "  <tbody>\n",
       "    <tr>\n",
       "      <th>0</th>\n",
       "      <td>25270</td>\n",
       "      <td>11/1/2017</td>\n",
       "      <td>Trash - Backdoor</td>\n",
       "      <td>house with the wheel chair ramp, they share dr...</td>\n",
       "      <td>3817 Crouch Dr</td>\n",
       "      <td>37207.0</td>\n",
       "      <td>RED RIVER</td>\n",
       "      <td>3205</td>\n",
       "      <td>2.0</td>\n",
       "      <td>1727970.412</td>\n",
       "      <td>686779.4781</td>\n",
       "      <td>-86.815392</td>\n",
       "      <td>36.217292</td>\n",
       "    </tr>\n",
       "    <tr>\n",
       "      <th>1</th>\n",
       "      <td>25274</td>\n",
       "      <td>11/1/2017</td>\n",
       "      <td>Trash - Curbside/Alley Missed Pickup</td>\n",
       "      <td>Curb/Trash miss Tuesday.</td>\n",
       "      <td>4028 Clarksville Pike</td>\n",
       "      <td>37218.0</td>\n",
       "      <td>RED RIVER</td>\n",
       "      <td>4202</td>\n",
       "      <td>1.0</td>\n",
       "      <td>1721259.366</td>\n",
       "      <td>685444.7996</td>\n",
       "      <td>-86.838103</td>\n",
       "      <td>36.213470</td>\n",
       "    </tr>\n",
       "    <tr>\n",
       "      <th>2</th>\n",
       "      <td>25276</td>\n",
       "      <td>11/1/2017</td>\n",
       "      <td>Trash - Curbside/Alley Missed Pickup</td>\n",
       "      <td>Curb/trash miss Tuesday.</td>\n",
       "      <td>6528 Thunderbird Dr</td>\n",
       "      <td>37209.0</td>\n",
       "      <td>RED RIVER</td>\n",
       "      <td>4205</td>\n",
       "      <td>20.0</td>\n",
       "      <td>1707026.753</td>\n",
       "      <td>659887.4716</td>\n",
       "      <td>-86.885562</td>\n",
       "      <td>36.142923</td>\n",
       "    </tr>\n",
       "    <tr>\n",
       "      <th>3</th>\n",
       "      <td>25307</td>\n",
       "      <td>11/1/2017</td>\n",
       "      <td>Trash - Curbside/Alley Missed Pickup</td>\n",
       "      <td>missed</td>\n",
       "      <td>2603 old matthews rd</td>\n",
       "      <td>37207.0</td>\n",
       "      <td>WASTE IND</td>\n",
       "      <td>2206</td>\n",
       "      <td>2.0</td>\n",
       "      <td>1735691.771</td>\n",
       "      <td>685027.2459</td>\n",
       "      <td>-86.789170</td>\n",
       "      <td>36.212652</td>\n",
       "    </tr>\n",
       "    <tr>\n",
       "      <th>4</th>\n",
       "      <td>25312</td>\n",
       "      <td>11/1/2017</td>\n",
       "      <td>Trash - Curbside/Alley Missed Pickup</td>\n",
       "      <td>Missed the even side of the road.</td>\n",
       "      <td>604 croley dr</td>\n",
       "      <td>37209.0</td>\n",
       "      <td>RED RIVER</td>\n",
       "      <td>4203</td>\n",
       "      <td>20.0</td>\n",
       "      <td>1710185.772</td>\n",
       "      <td>664205.1011</td>\n",
       "      <td>-86.874995</td>\n",
       "      <td>36.154861</td>\n",
       "    </tr>\n",
       "  </tbody>\n",
       "</table>\n",
       "</div>"
      ],
      "text/plain": [
       "   Request Number Date Opened                               Request  \\\n",
       "0           25270   11/1/2017                      Trash - Backdoor   \n",
       "1           25274   11/1/2017  Trash - Curbside/Alley Missed Pickup   \n",
       "2           25276   11/1/2017  Trash - Curbside/Alley Missed Pickup   \n",
       "3           25307   11/1/2017  Trash - Curbside/Alley Missed Pickup   \n",
       "4           25312   11/1/2017  Trash - Curbside/Alley Missed Pickup   \n",
       "\n",
       "                                         Description       Incident Address  \\\n",
       "0  house with the wheel chair ramp, they share dr...         3817 Crouch Dr   \n",
       "1                           Curb/Trash miss Tuesday.  4028 Clarksville Pike   \n",
       "2                           Curb/trash miss Tuesday.    6528 Thunderbird Dr   \n",
       "3                                             missed   2603 old matthews rd   \n",
       "4                  Missed the even side of the road.          604 croley dr   \n",
       "\n",
       "   Zip Code Trash Hauler Trash Route  Council District  State Plan X  \\\n",
       "0   37207.0    RED RIVER        3205               2.0   1727970.412   \n",
       "1   37218.0    RED RIVER        4202               1.0   1721259.366   \n",
       "2   37209.0    RED RIVER        4205              20.0   1707026.753   \n",
       "3   37207.0    WASTE IND        2206               2.0   1735691.771   \n",
       "4   37209.0    RED RIVER        4203              20.0   1710185.772   \n",
       "\n",
       "   State Plan Y  LONGITUDE   LATITUDE  \n",
       "0   686779.4781 -86.815392  36.217292  \n",
       "1   685444.7996 -86.838103  36.213470  \n",
       "2   659887.4716 -86.885562  36.142923  \n",
       "3   685027.2459 -86.789170  36.212652  \n",
       "4   664205.1011 -86.874995  36.154861  "
      ]
     },
     "execution_count": 2,
     "metadata": {},
     "output_type": "execute_result"
    }
   ],
   "source": [
    "trashpick = pd.read_csv(r\"C:\\Users\\ekims\\Documents\\NSS\\DA14\\Projects\\trash-pickups-v2-ekimshaf\\data\\trash_hauler_report_with_lat_lng.csv\")\n",
    "print(trashpick.shape)\n",
    "trashpick.head(5)"
   ]
  },
  {
   "cell_type": "code",
   "execution_count": 3,
   "id": "c9e67036-ea05-48da-92ea-117cbbedb965",
   "metadata": {},
   "outputs": [
    {
     "name": "stdout",
     "output_type": "stream",
     "text": [
      "(14395, 13)\n"
     ]
    },
    {
     "data": {
      "text/html": [
       "<div>\n",
       "<style scoped>\n",
       "    .dataframe tbody tr th:only-of-type {\n",
       "        vertical-align: middle;\n",
       "    }\n",
       "\n",
       "    .dataframe tbody tr th {\n",
       "        vertical-align: top;\n",
       "    }\n",
       "\n",
       "    .dataframe thead th {\n",
       "        text-align: right;\n",
       "    }\n",
       "</style>\n",
       "<table border=\"1\" class=\"dataframe\">\n",
       "  <thead>\n",
       "    <tr style=\"text-align: right;\">\n",
       "      <th></th>\n",
       "      <th>Request Number</th>\n",
       "      <th>Date Opened</th>\n",
       "      <th>Request</th>\n",
       "      <th>Description</th>\n",
       "      <th>Incident Address</th>\n",
       "      <th>Zip Code</th>\n",
       "      <th>Trash Hauler</th>\n",
       "      <th>Trash Route</th>\n",
       "      <th>Council District</th>\n",
       "      <th>State Plan X</th>\n",
       "      <th>State Plan Y</th>\n",
       "      <th>LONGITUDE</th>\n",
       "      <th>LATITUDE</th>\n",
       "    </tr>\n",
       "  </thead>\n",
       "  <tbody>\n",
       "    <tr>\n",
       "      <th>0</th>\n",
       "      <td>25270</td>\n",
       "      <td>11/1/2017</td>\n",
       "      <td>Trash - Backdoor</td>\n",
       "      <td>house with the wheel chair ramp, they share dr...</td>\n",
       "      <td>3817 Crouch Dr</td>\n",
       "      <td>37207.0</td>\n",
       "      <td>RED RIVER</td>\n",
       "      <td>3205</td>\n",
       "      <td>2.0</td>\n",
       "      <td>1727970.412</td>\n",
       "      <td>686779.4781</td>\n",
       "      <td>-86.815392</td>\n",
       "      <td>36.217292</td>\n",
       "    </tr>\n",
       "    <tr>\n",
       "      <th>1</th>\n",
       "      <td>25274</td>\n",
       "      <td>11/1/2017</td>\n",
       "      <td>Trash - Curbside/Alley Missed Pickup</td>\n",
       "      <td>Curb/Trash miss Tuesday.</td>\n",
       "      <td>4028 Clarksville Pike</td>\n",
       "      <td>37218.0</td>\n",
       "      <td>RED RIVER</td>\n",
       "      <td>4202</td>\n",
       "      <td>1.0</td>\n",
       "      <td>1721259.366</td>\n",
       "      <td>685444.7996</td>\n",
       "      <td>-86.838103</td>\n",
       "      <td>36.213470</td>\n",
       "    </tr>\n",
       "    <tr>\n",
       "      <th>2</th>\n",
       "      <td>25276</td>\n",
       "      <td>11/1/2017</td>\n",
       "      <td>Trash - Curbside/Alley Missed Pickup</td>\n",
       "      <td>Curb/trash miss Tuesday.</td>\n",
       "      <td>6528 Thunderbird Dr</td>\n",
       "      <td>37209.0</td>\n",
       "      <td>RED RIVER</td>\n",
       "      <td>4205</td>\n",
       "      <td>20.0</td>\n",
       "      <td>1707026.753</td>\n",
       "      <td>659887.4716</td>\n",
       "      <td>-86.885562</td>\n",
       "      <td>36.142923</td>\n",
       "    </tr>\n",
       "    <tr>\n",
       "      <th>4</th>\n",
       "      <td>25312</td>\n",
       "      <td>11/1/2017</td>\n",
       "      <td>Trash - Curbside/Alley Missed Pickup</td>\n",
       "      <td>Missed the even side of the road.</td>\n",
       "      <td>604 croley dr</td>\n",
       "      <td>37209.0</td>\n",
       "      <td>RED RIVER</td>\n",
       "      <td>4203</td>\n",
       "      <td>20.0</td>\n",
       "      <td>1710185.772</td>\n",
       "      <td>664205.1011</td>\n",
       "      <td>-86.874995</td>\n",
       "      <td>36.154861</td>\n",
       "    </tr>\n",
       "    <tr>\n",
       "      <th>5</th>\n",
       "      <td>25317</td>\n",
       "      <td>11/1/2017</td>\n",
       "      <td>Trash Collection Complaint</td>\n",
       "      <td>left trash cart in middle of driveway instead ...</td>\n",
       "      <td>3602 floral dr</td>\n",
       "      <td>37211.0</td>\n",
       "      <td>RED RIVER</td>\n",
       "      <td>4304</td>\n",
       "      <td>16.0</td>\n",
       "      <td>1751660.164</td>\n",
       "      <td>643215.2011</td>\n",
       "      <td>-86.733980</td>\n",
       "      <td>36.098140</td>\n",
       "    </tr>\n",
       "  </tbody>\n",
       "</table>\n",
       "</div>"
      ],
      "text/plain": [
       "   Request Number Date Opened                               Request  \\\n",
       "0           25270   11/1/2017                      Trash - Backdoor   \n",
       "1           25274   11/1/2017  Trash - Curbside/Alley Missed Pickup   \n",
       "2           25276   11/1/2017  Trash - Curbside/Alley Missed Pickup   \n",
       "4           25312   11/1/2017  Trash - Curbside/Alley Missed Pickup   \n",
       "5           25317   11/1/2017            Trash Collection Complaint   \n",
       "\n",
       "                                         Description       Incident Address  \\\n",
       "0  house with the wheel chair ramp, they share dr...         3817 Crouch Dr   \n",
       "1                           Curb/Trash miss Tuesday.  4028 Clarksville Pike   \n",
       "2                           Curb/trash miss Tuesday.    6528 Thunderbird Dr   \n",
       "4                  Missed the even side of the road.          604 croley dr   \n",
       "5  left trash cart in middle of driveway instead ...         3602 floral dr   \n",
       "\n",
       "   Zip Code Trash Hauler Trash Route  Council District  State Plan X  \\\n",
       "0   37207.0    RED RIVER        3205               2.0   1727970.412   \n",
       "1   37218.0    RED RIVER        4202               1.0   1721259.366   \n",
       "2   37209.0    RED RIVER        4205              20.0   1707026.753   \n",
       "4   37209.0    RED RIVER        4203              20.0   1710185.772   \n",
       "5   37211.0    RED RIVER        4304              16.0   1751660.164   \n",
       "\n",
       "   State Plan Y  LONGITUDE   LATITUDE  \n",
       "0   686779.4781 -86.815392  36.217292  \n",
       "1   685444.7996 -86.838103  36.213470  \n",
       "2   659887.4716 -86.885562  36.142923  \n",
       "4   664205.1011 -86.874995  36.154861  \n",
       "5   643215.2011 -86.733980  36.098140  "
      ]
     },
     "execution_count": 3,
     "metadata": {},
     "output_type": "execute_result"
    }
   ],
   "source": [
    "## filter new datafram to include only instances for provider \"Red River\"\n",
    "red_river = trashpick[trashpick['Trash Hauler'].isin(['RED RIVER'])]\n",
    "print(red_river.shape)\n",
    "red_river.head(5)"
   ]
  },
  {
   "cell_type": "code",
   "execution_count": 4,
   "id": "65a3e081-008e-4d4e-8a63-88e21b508678",
   "metadata": {},
   "outputs": [
    {
     "name": "stdout",
     "output_type": "stream",
     "text": [
      "(10715, 13)\n"
     ]
    },
    {
     "data": {
      "text/html": [
       "<div>\n",
       "<style scoped>\n",
       "    .dataframe tbody tr th:only-of-type {\n",
       "        vertical-align: middle;\n",
       "    }\n",
       "\n",
       "    .dataframe tbody tr th {\n",
       "        vertical-align: top;\n",
       "    }\n",
       "\n",
       "    .dataframe thead th {\n",
       "        text-align: right;\n",
       "    }\n",
       "</style>\n",
       "<table border=\"1\" class=\"dataframe\">\n",
       "  <thead>\n",
       "    <tr style=\"text-align: right;\">\n",
       "      <th></th>\n",
       "      <th>Request Number</th>\n",
       "      <th>Date Opened</th>\n",
       "      <th>Request</th>\n",
       "      <th>Description</th>\n",
       "      <th>Incident Address</th>\n",
       "      <th>Zip Code</th>\n",
       "      <th>Trash Hauler</th>\n",
       "      <th>Trash Route</th>\n",
       "      <th>Council District</th>\n",
       "      <th>State Plan X</th>\n",
       "      <th>State Plan Y</th>\n",
       "      <th>LONGITUDE</th>\n",
       "      <th>LATITUDE</th>\n",
       "    </tr>\n",
       "  </thead>\n",
       "  <tbody>\n",
       "    <tr>\n",
       "      <th>1</th>\n",
       "      <td>25274</td>\n",
       "      <td>11/1/2017</td>\n",
       "      <td>Trash - Curbside/Alley Missed Pickup</td>\n",
       "      <td>Curb/Trash miss Tuesday.</td>\n",
       "      <td>4028 Clarksville Pike</td>\n",
       "      <td>37218.0</td>\n",
       "      <td>RED RIVER</td>\n",
       "      <td>4202</td>\n",
       "      <td>1.0</td>\n",
       "      <td>1721259.366</td>\n",
       "      <td>685444.7996</td>\n",
       "      <td>-86.838103</td>\n",
       "      <td>36.213470</td>\n",
       "    </tr>\n",
       "    <tr>\n",
       "      <th>2</th>\n",
       "      <td>25276</td>\n",
       "      <td>11/1/2017</td>\n",
       "      <td>Trash - Curbside/Alley Missed Pickup</td>\n",
       "      <td>Curb/trash miss Tuesday.</td>\n",
       "      <td>6528 Thunderbird Dr</td>\n",
       "      <td>37209.0</td>\n",
       "      <td>RED RIVER</td>\n",
       "      <td>4205</td>\n",
       "      <td>20.0</td>\n",
       "      <td>1707026.753</td>\n",
       "      <td>659887.4716</td>\n",
       "      <td>-86.885562</td>\n",
       "      <td>36.142923</td>\n",
       "    </tr>\n",
       "    <tr>\n",
       "      <th>4</th>\n",
       "      <td>25312</td>\n",
       "      <td>11/1/2017</td>\n",
       "      <td>Trash - Curbside/Alley Missed Pickup</td>\n",
       "      <td>Missed the even side of the road.</td>\n",
       "      <td>604 croley dr</td>\n",
       "      <td>37209.0</td>\n",
       "      <td>RED RIVER</td>\n",
       "      <td>4203</td>\n",
       "      <td>20.0</td>\n",
       "      <td>1710185.772</td>\n",
       "      <td>664205.1011</td>\n",
       "      <td>-86.874995</td>\n",
       "      <td>36.154861</td>\n",
       "    </tr>\n",
       "    <tr>\n",
       "      <th>8</th>\n",
       "      <td>25330</td>\n",
       "      <td>11/1/2017</td>\n",
       "      <td>Trash - Curbside/Alley Missed Pickup</td>\n",
       "      <td>Missed.</td>\n",
       "      <td>4484 Lavergne Couchville Pike</td>\n",
       "      <td>37013.0</td>\n",
       "      <td>RED RIVER</td>\n",
       "      <td>4210</td>\n",
       "      <td>33.0</td>\n",
       "      <td>1794533.514</td>\n",
       "      <td>618749.3427</td>\n",
       "      <td>-86.588364</td>\n",
       "      <td>36.031728</td>\n",
       "    </tr>\n",
       "    <tr>\n",
       "      <th>10</th>\n",
       "      <td>25341</td>\n",
       "      <td>11/1/2017</td>\n",
       "      <td>Trash - Curbside/Alley Missed Pickup</td>\n",
       "      <td>Missed trash pickup - resident has at curb for...</td>\n",
       "      <td>3113 HYDES FERRY RD</td>\n",
       "      <td>37218.0</td>\n",
       "      <td>RED RIVER</td>\n",
       "      <td>4204</td>\n",
       "      <td>2.0</td>\n",
       "      <td>1721577.768</td>\n",
       "      <td>676018.3999</td>\n",
       "      <td>-86.836750</td>\n",
       "      <td>36.187584</td>\n",
       "    </tr>\n",
       "  </tbody>\n",
       "</table>\n",
       "</div>"
      ],
      "text/plain": [
       "    Request Number Date Opened                               Request  \\\n",
       "1            25274   11/1/2017  Trash - Curbside/Alley Missed Pickup   \n",
       "2            25276   11/1/2017  Trash - Curbside/Alley Missed Pickup   \n",
       "4            25312   11/1/2017  Trash - Curbside/Alley Missed Pickup   \n",
       "8            25330   11/1/2017  Trash - Curbside/Alley Missed Pickup   \n",
       "10           25341   11/1/2017  Trash - Curbside/Alley Missed Pickup   \n",
       "\n",
       "                                          Description  \\\n",
       "1                            Curb/Trash miss Tuesday.   \n",
       "2                            Curb/trash miss Tuesday.   \n",
       "4                   Missed the even side of the road.   \n",
       "8                                             Missed.   \n",
       "10  Missed trash pickup - resident has at curb for...   \n",
       "\n",
       "                 Incident Address  Zip Code Trash Hauler Trash Route  \\\n",
       "1           4028 Clarksville Pike   37218.0    RED RIVER        4202   \n",
       "2             6528 Thunderbird Dr   37209.0    RED RIVER        4205   \n",
       "4                   604 croley dr   37209.0    RED RIVER        4203   \n",
       "8   4484 Lavergne Couchville Pike   37013.0    RED RIVER        4210   \n",
       "10            3113 HYDES FERRY RD   37218.0    RED RIVER        4204   \n",
       "\n",
       "    Council District  State Plan X  State Plan Y  LONGITUDE   LATITUDE  \n",
       "1                1.0   1721259.366   685444.7996 -86.838103  36.213470  \n",
       "2               20.0   1707026.753   659887.4716 -86.885562  36.142923  \n",
       "4               20.0   1710185.772   664205.1011 -86.874995  36.154861  \n",
       "8               33.0   1794533.514   618749.3427 -86.588364  36.031728  \n",
       "10               2.0   1721577.768   676018.3999 -86.836750  36.187584  "
      ]
     },
     "execution_count": 4,
     "metadata": {},
     "output_type": "execute_result"
    }
   ],
   "source": [
    "## filter new dataframe for only values where description includes the word \"miss\"\n",
    "## letter case was ignored, used Description column as Request column had more than one description type associated with missed p/u\n",
    "rr_missed = red_river[red_river['Request'].str.contains('Trash - Curbside/Alley Missed Pickup', case=False, na=False)]\n",
    "print(rr_missed.shape)\n",
    "rr_missed.head(5)\n"
   ]
  },
  {
   "cell_type": "code",
   "execution_count": 5,
   "id": "2d43c6a8-c2da-41b5-aabc-ec0ff12910ef",
   "metadata": {},
   "outputs": [
    {
     "name": "stdout",
     "output_type": "stream",
     "text": [
      "(8190,)\n",
      "(1551,)\n"
     ]
    },
    {
     "data": {
      "text/plain": [
       "Incident Address\n",
       "12546 Old Hickory Blvd, Nashville, TN 37013, United States    19\n",
       "5135 Hickory Hollow Pkwy                                      16\n",
       "802 Crescent Rd, Nashville, TN 37205, United States           16\n",
       "607 Estes Rd, Nashville, TN 37215, United States              15\n",
       "3710 N NATCHEZ CT                                             14\n",
       "6007 Obrien Ave, Nashville, TN 37209, United States           14\n",
       "320 Old Hickory Blvd, Nashville, TN 37221, United States      12\n",
       "111 Barton Ln, Nashville, TN 37214, United States             11\n",
       "1537 Harding Pl, Nashville, TN 37215, United States           11\n",
       "3929 Stewarts Ln                                              10\n",
       "208 Flint Ridge Ct, Nashville, TN 37189, United States         9\n",
       "2731 Murfreesboro Pike                                         9\n",
       "115 Barton Ln, Nashville, TN 37214, United States              9\n",
       "1916 S Hamilton Rd                                             9\n",
       "1584 Bell Rd                                                   9\n",
       "14885 old hickory blvd                                         8\n",
       "672 Annex Ave, Nashville, TN 37209, United States              8\n",
       "14550 Old Hickory Blvd, Nashville, TN 37013, United States     8\n",
       "4024 Stewarts Ln, Nashville, TN 37218, United States           8\n",
       "3116 anderson rd                                               8\n",
       "Name: count, dtype: int64"
      ]
     },
     "execution_count": 5,
     "metadata": {},
     "output_type": "execute_result"
    }
   ],
   "source": [
    "## counting instances where addresses appear more than once from missed p/u df\n",
    "\n",
    "address_counts = rr_missed['Incident Address'].value_counts()\n",
    "rpt_miss = address_counts[address_counts >= 2]\n",
    "\n",
    "print(address_counts.shape)\n",
    "print(rpt_miss.shape)\n",
    "rpt_miss.head(20)"
   ]
  },
  {
   "cell_type": "code",
   "execution_count": 6,
   "id": "0bb8fed5-fc30-4f40-972e-6235e3d1aebd",
   "metadata": {},
   "outputs": [
    {
     "data": {
      "text/plain": [
       "4075"
      ]
     },
     "execution_count": 6,
     "metadata": {},
     "output_type": "execute_result"
    }
   ],
   "source": [
    "## summing the total number of missed incidents with addresses where p/u miss is >= 2\n",
    "missed_sum = sum(rpt_miss)\n",
    "missed_sum\n"
   ]
  },
  {
   "cell_type": "code",
   "execution_count": 7,
   "id": "cdda2c50-3eb8-4a59-b967-2b11a1e41489",
   "metadata": {},
   "outputs": [
    {
     "data": {
      "text/plain": [
       "2524"
      ]
     },
     "execution_count": 7,
     "metadata": {},
     "output_type": "execute_result"
    }
   ],
   "source": [
    "## subtracting first instance from counts as it is not subject to fine\n",
    "## calculated by subtracting count of missed p/u from sum of instances\n",
    "penalty = missed_sum - rpt_miss.count()\n",
    "penalty"
   ]
  },
  {
   "cell_type": "code",
   "execution_count": 8,
   "id": "900f8ae9-1180-45b1-8895-441641f87172",
   "metadata": {},
   "outputs": [
    {
     "data": {
      "text/plain": [
       "504800"
      ]
     },
     "execution_count": 8,
     "metadata": {},
     "output_type": "execute_result"
    }
   ],
   "source": [
    "## calculating total fine, formatting to make it currency\n",
    "##tot_fine = \"${:,.2f}\".format(penalty * 200)  <<---- wasn't playing nice with the below calculation because this is making the output a string\n",
    "tot_fine = penalty * 200\n",
    "tot_fine\n"
   ]
  },
  {
   "cell_type": "markdown",
   "id": "9ffc8583-d699-4b81-9871-b039ad51522e",
   "metadata": {},
   "source": [
    "Instruction on checking work:\n",
    "\n",
    "1. Look at each calculation separately. How many incidents of missed pickups are there? Multiply that times the fee amount. That will tell you the max amount that the fine could be. 2. Look at the count of all house, then the count of all houses with more than one pickup. What percentage is that. If you take your total for above and reduce it by that percentage, do they line up?"
   ]
  },
  {
   "cell_type": "code",
   "execution_count": 9,
   "id": "e201ed28-83e0-453b-b63f-10328bee976d",
   "metadata": {},
   "outputs": [
    {
     "data": {
      "text/plain": [
       "720800"
      ]
     },
     "execution_count": 9,
     "metadata": {},
     "output_type": "execute_result"
    }
   ],
   "source": [
    "## total of all data for missed pick-up\n",
    "tot_missed = trashpick[trashpick['Request'].str.contains('Trash - Curbside/Alley Missed Pickup', case=False, na=False)]\n",
    "## total count of missed pick-up addresses\n",
    "tot_count = tot_missed['Incident Address'].value_counts()\n",
    "## total number of addresses missed more than once\n",
    "rpt_miss_all = tot_count[tot_count >= 2]\n",
    "## penalty for all missed in dataset\n",
    "all_miss_sum =  sum(rpt_miss_all)\n",
    "all_pen = all_miss_sum - rpt_miss_all.count()\n",
    "all_fine = all_pen * 200\n",
    "##all_fine = \"${:,.2f}\".format(all_pen * 200)  <<---- wasn't playing nice with the below calculation because this is making the output a string\n",
    "\n",
    "all_fine"
   ]
  },
  {
   "cell_type": "code",
   "execution_count": 10,
   "id": "e3258275-fc65-42ab-bac3-0afecc8084ad",
   "metadata": {},
   "outputs": [
    {
     "data": {
      "text/plain": [
       "0.7003329633740288"
      ]
     },
     "execution_count": 10,
     "metadata": {},
     "output_type": "execute_result"
    }
   ],
   "source": [
    "## caculating percent of fine in dataset Red River is liable for.\n",
    "rr_fine_perc = tot_fine / all_fine\n",
    "rr_fine_perc"
   ]
  },
  {
   "cell_type": "code",
   "execution_count": 11,
   "id": "f354ace1-5811-4b62-a05e-e25bb2b994e8",
   "metadata": {},
   "outputs": [
    {
     "name": "stdout",
     "output_type": "stream",
     "text": [
      "Incident Address\n",
      "12546 Old Hickory Blvd, Nashville, TN 37013, United States    19\n",
      "5135 Hickory Hollow Pkwy                                      17\n",
      "802 Crescent Rd, Nashville, TN 37205, United States           17\n",
      "1816 Jo Johnston Ave, Nashville, TN 37203, United States      16\n",
      "607 Estes Rd, Nashville, TN 37215, United States              15\n",
      "                                                              ..\n",
      "3702 Hobbs Rd                                                  2\n",
      "1114 Saunders Ave, Madison, TN 37115, United States            2\n",
      "1824 Shackleford Rd B                                          2\n",
      "4014 Dorcas Dr, Nashville, TN 37215, United States             2\n",
      "109 Jocelyn Hills Rd                                           2\n",
      "Name: count, Length: 2226, dtype: int64\n",
      "5830\n"
     ]
    }
   ],
   "source": [
    "## calculating total number of houses which appear in the whole dataset more than one time.\n",
    "all_house = trashpick[trashpick['Request'].str.contains('Trash - Curbside/Alley Missed Pickup', case=False, na=False)]\n",
    "count_house_all = all_house['Incident Address'].value_counts()\n",
    "rpt_house_all = count_house_all[count_house_all >= 2]\n",
    "rpt_house_all\n",
    "tot_house_all = sum(rpt_house_all)\n",
    "print(rpt_house_all)\n",
    "print(tot_house_all)"
   ]
  },
  {
   "cell_type": "code",
   "execution_count": 12,
   "id": "e4073eb2-b737-4d43-b191-111e6a8e96a0",
   "metadata": {},
   "outputs": [
    {
     "data": {
      "text/plain": [
       "0.6989708404802745"
      ]
     },
     "execution_count": 12,
     "metadata": {},
     "output_type": "execute_result"
    }
   ],
   "source": [
    "## calculating percentage of houses in dataset that appear more than once that are serviced by Red River.\n",
    "house_perc = missed_sum / tot_house_all\n",
    "house_perc"
   ]
  },
  {
   "cell_type": "markdown",
   "id": "f026acc1-1741-43f6-bfbe-24fbb3f1e8b7",
   "metadata": {},
   "source": [
    "ANSWER:  Total fine for Red River is $504,800.00.\n",
    "\n",
    "I checked this answer by finding the total fine and calculating the percentage of the total fine that I've calculated is Red River's portion,\n",
    "which is approx. 70%.\n",
    "\n",
    "I then found the total number of houses in the dataset which include the \"Missed Pick-up\" tag with more than one entry in the data set.  I then divided my previous total of Red River missed house >=2 by the total missed >= 2 to again find Red River's portion.  This outcome was again approx. 70%.\n",
    "\n",
    "This leads me to believe that my orignal calculations were correct in regards to the fine owed by Red River for repeat missed pick-ups."
   ]
  },
  {
   "cell_type": "markdown",
   "id": "f59021d5-6fdb-447a-9149-06dd9809573d",
   "metadata": {},
   "source": [
    "* What other types of complaints are there?"
   ]
  },
  {
   "cell_type": "code",
   "execution_count": 13,
   "id": "04d098a8-f663-4e88-8a8c-268437474796",
   "metadata": {},
   "outputs": [
    {
     "data": {
      "text/plain": [
       "Request\n",
       "Trash - Curbside/Alley Missed Pickup    15028\n",
       "Trash - Backdoor                         2629\n",
       "Trash Collection Complaint               2312\n",
       "Damage to Property                        257\n",
       "Name: count, dtype: int64"
      ]
     },
     "execution_count": 13,
     "metadata": {},
     "output_type": "execute_result"
    }
   ],
   "source": [
    "complaint = trashpick['Request'].value_counts()\n",
    "complaint"
   ]
  },
  {
   "cell_type": "markdown",
   "id": "fb7b7d24-e77f-43b0-8cc1-1ffd42f6eb13",
   "metadata": {},
   "source": [
    "ANSWER:  Missed Pickup, Backdoor, Collection Complaint, and Damage to Property."
   ]
  },
  {
   "cell_type": "markdown",
   "id": "3584d44d-e3f8-41f5-98bd-6712cb074839",
   "metadata": {},
   "source": [
    "* How do metro crews compare to the contractor's performance?\n"
   ]
  },
  {
   "cell_type": "code",
   "execution_count": 14,
   "id": "eb44ddd1-06ac-4026-921d-b3488debdf93",
   "metadata": {},
   "outputs": [
    {
     "data": {
      "text/plain": [
       "Trash Hauler\n",
       "RED RIVER    14395\n",
       "METRO         3512\n",
       "WASTE IND     1350\n",
       "Metro           68\n",
       "Name: count, dtype: int64"
      ]
     },
     "execution_count": 14,
     "metadata": {},
     "output_type": "execute_result"
    }
   ],
   "source": [
    "crews = trashpick['Trash Hauler'].value_counts()\n",
    "crews"
   ]
  },
  {
   "cell_type": "markdown",
   "id": "f6dd3520-ec73-4865-bf5e-e72e0e81f11c",
   "metadata": {},
   "source": [
    "ANSWER: Red River seems to be the worst offender for complaints, having more entires in the data then all other haulers combined.\n",
    "\n",
    "This is supported by their hefty fine as relative to the other haulers (see below)."
   ]
  },
  {
   "cell_type": "code",
   "execution_count": 15,
   "id": "126fead0-8fc8-4c1d-9851-d3c7a6b17dc1",
   "metadata": {},
   "outputs": [
    {
     "data": {
      "text/plain": [
       "193800"
      ]
     },
     "execution_count": 15,
     "metadata": {},
     "output_type": "execute_result"
    }
   ],
   "source": [
    "## calculating Metro's fine\n",
    "metro = trashpick[trashpick['Trash Hauler'].str.contains('METRO', case=False, na=False)]\n",
    "metro_missed = metro[metro['Request'].str.contains('Trash - Curbside/Alley Missed Pickup', case=False, na=False)]\n",
    "addy_metro_count = metro_missed['Incident Address'].value_counts()\n",
    "sum_metro_missed = sum(addy_metro_count[addy_metro_count >=2])\n",
    "metro_fine = sum_metro_missed *200\n",
    "metro_fine"
   ]
  },
  {
   "cell_type": "code",
   "execution_count": 16,
   "id": "a376a658-7a81-4baa-8744-7220dfaea450",
   "metadata": {},
   "outputs": [
    {
     "data": {
      "text/plain": [
       "72800"
      ]
     },
     "execution_count": 16,
     "metadata": {},
     "output_type": "execute_result"
    }
   ],
   "source": [
    "## calculating Waste Ind. fine\n",
    "waste_ind = trashpick[trashpick['Trash Hauler'].str.contains('WASTE IND', case=False, na=False)]\n",
    "wi_missed = waste_ind[waste_ind['Request'].str.contains('Trash - Curbside/Alley Missed Pickup', case=False, na=False)]\n",
    "addy_wi_count = wi_missed['Incident Address'].value_counts()\n",
    "sum_wi_missed = sum(addy_wi_count[addy_wi_count >=2])\n",
    "wi_fine = sum_wi_missed *200\n",
    "wi_fine"
   ]
  },
  {
   "cell_type": "code",
   "execution_count": 17,
   "id": "ec256f70-16a5-466a-90dd-69db456d9c2e",
   "metadata": {},
   "outputs": [
    {
     "data": {
      "text/plain": [
       "771400"
      ]
     },
     "execution_count": 17,
     "metadata": {},
     "output_type": "execute_result"
    }
   ],
   "source": [
    "grandtot_fine = wi_fine + metro_fine + tot_fine\n",
    "grandtot_fine"
   ]
  },
  {
   "cell_type": "markdown",
   "id": "e1f3a6f6-9fd2-4ac2-9abe-0cb15cb55d6e",
   "metadata": {},
   "source": [
    "ANSWER: \n",
    "\n",
    "Total Fines:\n",
    "    Red River  - 504,800; \n",
    "    Metro      - 193,800; \n",
    "    Waste Ind. - 72,800; "
   ]
  },
  {
   "cell_type": "markdown",
   "id": "954b37f5-4b39-42d8-b6bb-258aaec2b98a",
   "metadata": {},
   "source": [
    "* What were to total missed pickup by route?"
   ]
  },
  {
   "cell_type": "code",
   "execution_count": 18,
   "id": "b3578de9-6299-4ab0-9658-fd07a70d5e92",
   "metadata": {},
   "outputs": [
    {
     "data": {
      "text/plain": [
       "Trash Route\n",
       "4504     305\n",
       "4404     246\n",
       "3302     230\n",
       "3305     215\n",
       "9303     209\n",
       "3503     204\n",
       "3303     198\n",
       "4304     196\n",
       "3412     194\n",
       "3201     194\n",
       "2405     193\n",
       "2505     190\n",
       "9203     190\n",
       "9208     190\n",
       "3203     181\n",
       "2305     172\n",
       "4502     172\n",
       "4303     170\n",
       "4203     169\n",
       "4403     166\n",
       "3301     165\n",
       "4204     164\n",
       "4510     163\n",
       "1201     160\n",
       "3202     158\n",
       "2203     158\n",
       "1501     157\n",
       "3204     156\n",
       "1301     155\n",
       "3502     151\n",
       "3304     149\n",
       "3214     141\n",
       "9503     140\n",
       "3401     139\n",
       "2303     137\n",
       "4202     136\n",
       "3504     134\n",
       "4503     132\n",
       "1503     131\n",
       "3212     129\n",
       "9205     128\n",
       "3403     128\n",
       "3207     126\n",
       "9403     125\n",
       "2205     124\n",
       "4405     121\n",
       "1303     120\n",
       "9407     118\n",
       "3414     111\n",
       "9508     109\n",
       "3501     109\n",
       "1502     107\n",
       "1302     106\n",
       "9408     104\n",
       "3205     103\n",
       "4302     102\n",
       "3306     101\n",
       "2501      99\n",
       "4402      95\n",
       "9307      94\n",
       "3314      94\n",
       "2403      92\n",
       "3404      90\n",
       "9308      90\n",
       "9401      89\n",
       "9402      89\n",
       "3208      89\n",
       "3512      89\n",
       "9404      88\n",
       "1304      88\n",
       "1202      87\n",
       "3405      86\n",
       "9201      85\n",
       "2204      85\n",
       "1504      84\n",
       "9302      84\n",
       "4305      82\n",
       "3402      81\n",
       "2308      81\n",
       "2206      80\n",
       "4201      76\n",
       "3312      76\n",
       "2401      74\n",
       "2201      73\n",
       "9207      72\n",
       "1402      72\n",
       "3514      71\n",
       "4501      71\n",
       "2509      70\n",
       "4505      69\n",
       "1203      68\n",
       "4507      68\n",
       "9502      68\n",
       "3505      68\n",
       "4409      64\n",
       "3307      63\n",
       "1204      61\n",
       "1404      61\n",
       "9507      61\n",
       "2504      60\n",
       "1403      60\n",
       "2502      59\n",
       "2506      58\n",
       "9202      58\n",
       "9506      57\n",
       "2301      57\n",
       "4203S     55\n",
       "9304      55\n",
       "2503      53\n",
       "4406      51\n",
       "1401      50\n",
       "4407      50\n",
       "1505      49\n",
       "2304      48\n",
       "9306      46\n",
       "9505      46\n",
       "1309      45\n",
       "4401      44\n",
       "1308      42\n",
       "2302      42\n",
       "1405      42\n",
       "2404      41\n",
       "4310      40\n",
       "2202      40\n",
       "3304S     40\n",
       "9504      38\n",
       "9301      38\n",
       "9406      38\n",
       "2306      37\n",
       "1305      37\n",
       "4301      37\n",
       "2408      37\n",
       "2305S     35\n",
       "3206      35\n",
       "4410      34\n",
       "1205      33\n",
       "9204      33\n",
       "4205      32\n",
       "4508      31\n",
       "9405      30\n",
       "9206      30\n",
       "9501      30\n",
       "2402      27\n",
       "1302S     24\n",
       "3302S     21\n",
       "4210      21\n",
       "3406      19\n",
       "2303S     19\n",
       "2207      18\n",
       "4209      18\n",
       "2304S     18\n",
       "4506      17\n",
       "3407      16\n",
       "3402S     13\n",
       "1507      13\n",
       "3305S     10\n",
       "9305      10\n",
       "1303S      8\n",
       "1504S      7\n",
       "4305S      6\n",
       "2301S      6\n",
       "3411       5\n",
       "2402S      4\n",
       "4402S      4\n",
       "1202S      4\n",
       "2405S      3\n",
       "3301S      3\n",
       "4504S      3\n",
       "3303S      2\n",
       "2505S      2\n",
       "4201S      2\n",
       "1502S      1\n",
       "Name: count, dtype: int64"
      ]
     },
     "execution_count": 18,
     "metadata": {},
     "output_type": "execute_result"
    }
   ],
   "source": [
    "pd.set_option(\"display.max_rows\", None)\n",
    "missed_by_route = all_house['Trash Route'].value_counts()\n",
    "missed_by_route"
   ]
  },
  {
   "cell_type": "markdown",
   "id": "21c09563-e26a-4dbb-8a71-787f5198966e",
   "metadata": {},
   "source": [
    "ANSWER:  Value counts above should indicate the number of entries for missed pickups for each route.\n",
    "\n",
    "Accomplished by using previous dataframe (all_house) which consisted of all houses in dataset with \"missed pickup\" tag."
   ]
  },
  {
   "cell_type": "code",
   "execution_count": null,
   "id": "966f9d51-a25c-4b47-9f48-3f6c0bc02cf1",
   "metadata": {},
   "outputs": [],
   "source": []
  }
 ],
 "metadata": {
  "kernelspec": {
   "display_name": "Python 3 (ipykernel)",
   "language": "python",
   "name": "python3"
  },
  "language_info": {
   "codemirror_mode": {
    "name": "ipython",
    "version": 3
   },
   "file_extension": ".py",
   "mimetype": "text/x-python",
   "name": "python",
   "nbconvert_exporter": "python",
   "pygments_lexer": "ipython3",
   "version": "3.10.17"
  }
 },
 "nbformat": 4,
 "nbformat_minor": 5
}
